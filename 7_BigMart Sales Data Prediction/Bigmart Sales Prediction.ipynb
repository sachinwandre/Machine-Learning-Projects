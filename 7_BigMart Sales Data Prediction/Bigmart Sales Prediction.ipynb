{
 "cells": [
  {
   "cell_type": "code",
   "execution_count": 1,
   "id": "2b8c62a5-49aa-4ebf-97a7-097b65c4928a",
   "metadata": {},
   "outputs": [],
   "source": [
    "import numpy as np\n",
    "import pandas as pd\n",
    "import seaborn as sns\n",
    "from sklearn.svm import SVR\n",
    "import matplotlib.pyplot as plt\n",
    "from sklearn.preprocessing import LabelEncoder\n",
    "from sklearn.tree import DecisionTreeRegressor\n",
    "from sklearn.preprocessing import StandardScaler\n",
    "from sklearn.ensemble import RandomForestRegressor\n",
    "from sklearn.ensemble import GradientBoostingRegressor\n",
    "from sklearn.linear_model import LinearRegression, Lasso, Ridge\n",
    "from sklearn.metrics import mean_absolute_error, mean_squared_error, r2_score\n",
    "from sklearn.model_selection import train_test_split,RandomizedSearchCV,GridSearchCV"
   ]
  },
  {
   "cell_type": "code",
   "execution_count": 2,
   "id": "6135d6ba-9a42-4eb4-9d11-e9d554a4e27d",
   "metadata": {},
   "outputs": [],
   "source": [
    "import warnings\n",
    "warnings.filterwarnings('ignore')"
   ]
  },
  {
   "cell_type": "code",
   "execution_count": 3,
   "id": "7ba1519e-8c02-4b98-b284-b2569b76a0ee",
   "metadata": {},
   "outputs": [
    {
     "data": {
      "text/html": [
       "<div>\n",
       "<style scoped>\n",
       "    .dataframe tbody tr th:only-of-type {\n",
       "        vertical-align: middle;\n",
       "    }\n",
       "\n",
       "    .dataframe tbody tr th {\n",
       "        vertical-align: top;\n",
       "    }\n",
       "\n",
       "    .dataframe thead th {\n",
       "        text-align: right;\n",
       "    }\n",
       "</style>\n",
       "<table border=\"1\" class=\"dataframe\">\n",
       "  <thead>\n",
       "    <tr style=\"text-align: right;\">\n",
       "      <th></th>\n",
       "      <th>Item_Identifier</th>\n",
       "      <th>Item_Weight</th>\n",
       "      <th>Item_Fat_Content</th>\n",
       "      <th>Item_Visibility</th>\n",
       "      <th>Item_Type</th>\n",
       "      <th>Item_MRP</th>\n",
       "      <th>Outlet_Identifier</th>\n",
       "      <th>Outlet_Establishment_Year</th>\n",
       "      <th>Outlet_Size</th>\n",
       "      <th>Outlet_Location_Type</th>\n",
       "      <th>Outlet_Type</th>\n",
       "      <th>Item_Outlet_Sales</th>\n",
       "    </tr>\n",
       "  </thead>\n",
       "  <tbody>\n",
       "    <tr>\n",
       "      <th>0</th>\n",
       "      <td>FDA15</td>\n",
       "      <td>9.30</td>\n",
       "      <td>Low Fat</td>\n",
       "      <td>0.016047</td>\n",
       "      <td>Dairy</td>\n",
       "      <td>249.8092</td>\n",
       "      <td>OUT049</td>\n",
       "      <td>1999</td>\n",
       "      <td>Medium</td>\n",
       "      <td>Tier 1</td>\n",
       "      <td>Supermarket Type1</td>\n",
       "      <td>3735.1380</td>\n",
       "    </tr>\n",
       "    <tr>\n",
       "      <th>1</th>\n",
       "      <td>DRC01</td>\n",
       "      <td>5.92</td>\n",
       "      <td>Regular</td>\n",
       "      <td>0.019278</td>\n",
       "      <td>Soft Drinks</td>\n",
       "      <td>48.2692</td>\n",
       "      <td>OUT018</td>\n",
       "      <td>2009</td>\n",
       "      <td>Medium</td>\n",
       "      <td>Tier 3</td>\n",
       "      <td>Supermarket Type2</td>\n",
       "      <td>443.4228</td>\n",
       "    </tr>\n",
       "    <tr>\n",
       "      <th>2</th>\n",
       "      <td>FDN15</td>\n",
       "      <td>17.50</td>\n",
       "      <td>Low Fat</td>\n",
       "      <td>0.016760</td>\n",
       "      <td>Meat</td>\n",
       "      <td>141.6180</td>\n",
       "      <td>OUT049</td>\n",
       "      <td>1999</td>\n",
       "      <td>Medium</td>\n",
       "      <td>Tier 1</td>\n",
       "      <td>Supermarket Type1</td>\n",
       "      <td>2097.2700</td>\n",
       "    </tr>\n",
       "    <tr>\n",
       "      <th>3</th>\n",
       "      <td>FDX07</td>\n",
       "      <td>19.20</td>\n",
       "      <td>Regular</td>\n",
       "      <td>0.000000</td>\n",
       "      <td>Fruits and Vegetables</td>\n",
       "      <td>182.0950</td>\n",
       "      <td>OUT010</td>\n",
       "      <td>1998</td>\n",
       "      <td>NaN</td>\n",
       "      <td>Tier 3</td>\n",
       "      <td>Grocery Store</td>\n",
       "      <td>732.3800</td>\n",
       "    </tr>\n",
       "    <tr>\n",
       "      <th>4</th>\n",
       "      <td>NCD19</td>\n",
       "      <td>8.93</td>\n",
       "      <td>Low Fat</td>\n",
       "      <td>0.000000</td>\n",
       "      <td>Household</td>\n",
       "      <td>53.8614</td>\n",
       "      <td>OUT013</td>\n",
       "      <td>1987</td>\n",
       "      <td>High</td>\n",
       "      <td>Tier 3</td>\n",
       "      <td>Supermarket Type1</td>\n",
       "      <td>994.7052</td>\n",
       "    </tr>\n",
       "  </tbody>\n",
       "</table>\n",
       "</div>"
      ],
      "text/plain": [
       "  Item_Identifier  Item_Weight Item_Fat_Content  Item_Visibility  \\\n",
       "0           FDA15         9.30          Low Fat         0.016047   \n",
       "1           DRC01         5.92          Regular         0.019278   \n",
       "2           FDN15        17.50          Low Fat         0.016760   \n",
       "3           FDX07        19.20          Regular         0.000000   \n",
       "4           NCD19         8.93          Low Fat         0.000000   \n",
       "\n",
       "               Item_Type  Item_MRP Outlet_Identifier  \\\n",
       "0                  Dairy  249.8092            OUT049   \n",
       "1            Soft Drinks   48.2692            OUT018   \n",
       "2                   Meat  141.6180            OUT049   \n",
       "3  Fruits and Vegetables  182.0950            OUT010   \n",
       "4              Household   53.8614            OUT013   \n",
       "\n",
       "   Outlet_Establishment_Year Outlet_Size Outlet_Location_Type  \\\n",
       "0                       1999      Medium               Tier 1   \n",
       "1                       2009      Medium               Tier 3   \n",
       "2                       1999      Medium               Tier 1   \n",
       "3                       1998         NaN               Tier 3   \n",
       "4                       1987        High               Tier 3   \n",
       "\n",
       "         Outlet_Type  Item_Outlet_Sales  \n",
       "0  Supermarket Type1          3735.1380  \n",
       "1  Supermarket Type2           443.4228  \n",
       "2  Supermarket Type1          2097.2700  \n",
       "3      Grocery Store           732.3800  \n",
       "4  Supermarket Type1           994.7052  "
      ]
     },
     "execution_count": 3,
     "metadata": {},
     "output_type": "execute_result"
    }
   ],
   "source": [
    "# Importing the Pandas library as 'pd' to handle data manipulation and analysis\n",
    "import pandas as pd\n",
    "\n",
    "# Reading the CSV file 'Bigmart.csv' into a DataFrame named 'bigmart_df'\n",
    "# The CSV file likely contains data related to Big Mart sales, products, etc.\n",
    "bigmart_df = pd.read_csv('Bigmart.csv')\n",
    "\n",
    "# Displaying the first five rows of the DataFrame 'bigmart_df' to get a quick overview of the data\n",
    "bigmart_df.head()"
   ]
  },
  {
   "cell_type": "code",
   "execution_count": 4,
   "id": "f1e5b95d-b0dc-4006-805d-db6959bc3926",
   "metadata": {},
   "outputs": [
    {
     "name": "stdout",
     "output_type": "stream",
     "text": [
      "<class 'pandas.core.frame.DataFrame'>\n",
      "RangeIndex: 8523 entries, 0 to 8522\n",
      "Data columns (total 12 columns):\n",
      " #   Column                     Non-Null Count  Dtype  \n",
      "---  ------                     --------------  -----  \n",
      " 0   Item_Identifier            8523 non-null   object \n",
      " 1   Item_Weight                7060 non-null   float64\n",
      " 2   Item_Fat_Content           8523 non-null   object \n",
      " 3   Item_Visibility            8523 non-null   float64\n",
      " 4   Item_Type                  8523 non-null   object \n",
      " 5   Item_MRP                   8523 non-null   float64\n",
      " 6   Outlet_Identifier          8523 non-null   object \n",
      " 7   Outlet_Establishment_Year  8523 non-null   int64  \n",
      " 8   Outlet_Size                6113 non-null   object \n",
      " 9   Outlet_Location_Type       8523 non-null   object \n",
      " 10  Outlet_Type                8523 non-null   object \n",
      " 11  Item_Outlet_Sales          8523 non-null   float64\n",
      "dtypes: float64(4), int64(1), object(7)\n",
      "memory usage: 799.2+ KB\n"
     ]
    }
   ],
   "source": [
    "bigmart_df.info()"
   ]
  },
  {
   "cell_type": "code",
   "execution_count": 5,
   "id": "11c77343-296b-448d-a5c8-bb3d075c2d4b",
   "metadata": {},
   "outputs": [
    {
     "data": {
      "text/html": [
       "<div>\n",
       "<style scoped>\n",
       "    .dataframe tbody tr th:only-of-type {\n",
       "        vertical-align: middle;\n",
       "    }\n",
       "\n",
       "    .dataframe tbody tr th {\n",
       "        vertical-align: top;\n",
       "    }\n",
       "\n",
       "    .dataframe thead th {\n",
       "        text-align: right;\n",
       "    }\n",
       "</style>\n",
       "<table border=\"1\" class=\"dataframe\">\n",
       "  <thead>\n",
       "    <tr style=\"text-align: right;\">\n",
       "      <th></th>\n",
       "      <th>Item_Weight</th>\n",
       "      <th>Item_Visibility</th>\n",
       "      <th>Item_MRP</th>\n",
       "      <th>Outlet_Establishment_Year</th>\n",
       "      <th>Item_Outlet_Sales</th>\n",
       "    </tr>\n",
       "  </thead>\n",
       "  <tbody>\n",
       "    <tr>\n",
       "      <th>count</th>\n",
       "      <td>7060.000000</td>\n",
       "      <td>8523.000000</td>\n",
       "      <td>8523.000000</td>\n",
       "      <td>8523.000000</td>\n",
       "      <td>8523.000000</td>\n",
       "    </tr>\n",
       "    <tr>\n",
       "      <th>mean</th>\n",
       "      <td>12.857645</td>\n",
       "      <td>0.066132</td>\n",
       "      <td>140.992782</td>\n",
       "      <td>1997.831867</td>\n",
       "      <td>2181.288914</td>\n",
       "    </tr>\n",
       "    <tr>\n",
       "      <th>std</th>\n",
       "      <td>4.643456</td>\n",
       "      <td>0.051598</td>\n",
       "      <td>62.275067</td>\n",
       "      <td>8.371760</td>\n",
       "      <td>1706.499616</td>\n",
       "    </tr>\n",
       "    <tr>\n",
       "      <th>min</th>\n",
       "      <td>4.555000</td>\n",
       "      <td>0.000000</td>\n",
       "      <td>31.290000</td>\n",
       "      <td>1985.000000</td>\n",
       "      <td>33.290000</td>\n",
       "    </tr>\n",
       "    <tr>\n",
       "      <th>25%</th>\n",
       "      <td>8.773750</td>\n",
       "      <td>0.026989</td>\n",
       "      <td>93.826500</td>\n",
       "      <td>1987.000000</td>\n",
       "      <td>834.247400</td>\n",
       "    </tr>\n",
       "    <tr>\n",
       "      <th>50%</th>\n",
       "      <td>12.600000</td>\n",
       "      <td>0.053931</td>\n",
       "      <td>143.012800</td>\n",
       "      <td>1999.000000</td>\n",
       "      <td>1794.331000</td>\n",
       "    </tr>\n",
       "    <tr>\n",
       "      <th>75%</th>\n",
       "      <td>16.850000</td>\n",
       "      <td>0.094585</td>\n",
       "      <td>185.643700</td>\n",
       "      <td>2004.000000</td>\n",
       "      <td>3101.296400</td>\n",
       "    </tr>\n",
       "    <tr>\n",
       "      <th>max</th>\n",
       "      <td>21.350000</td>\n",
       "      <td>0.328391</td>\n",
       "      <td>266.888400</td>\n",
       "      <td>2009.000000</td>\n",
       "      <td>13086.964800</td>\n",
       "    </tr>\n",
       "  </tbody>\n",
       "</table>\n",
       "</div>"
      ],
      "text/plain": [
       "       Item_Weight  Item_Visibility     Item_MRP  Outlet_Establishment_Year  \\\n",
       "count  7060.000000      8523.000000  8523.000000                8523.000000   \n",
       "mean     12.857645         0.066132   140.992782                1997.831867   \n",
       "std       4.643456         0.051598    62.275067                   8.371760   \n",
       "min       4.555000         0.000000    31.290000                1985.000000   \n",
       "25%       8.773750         0.026989    93.826500                1987.000000   \n",
       "50%      12.600000         0.053931   143.012800                1999.000000   \n",
       "75%      16.850000         0.094585   185.643700                2004.000000   \n",
       "max      21.350000         0.328391   266.888400                2009.000000   \n",
       "\n",
       "       Item_Outlet_Sales  \n",
       "count        8523.000000  \n",
       "mean         2181.288914  \n",
       "std          1706.499616  \n",
       "min            33.290000  \n",
       "25%           834.247400  \n",
       "50%          1794.331000  \n",
       "75%          3101.296400  \n",
       "max         13086.964800  "
      ]
     },
     "execution_count": 5,
     "metadata": {},
     "output_type": "execute_result"
    }
   ],
   "source": [
    "bigmart_df.describe()"
   ]
  },
  {
   "cell_type": "code",
   "execution_count": 6,
   "id": "75580bce-cfd5-447c-8a6e-38748107e9b0",
   "metadata": {},
   "outputs": [
    {
     "data": {
      "text/plain": [
       "0"
      ]
     },
     "execution_count": 6,
     "metadata": {},
     "output_type": "execute_result"
    }
   ],
   "source": [
    "bigmart_df.duplicated().sum()"
   ]
  },
  {
   "cell_type": "markdown",
   "id": "03fae8b3-9b52-4329-895e-6265c4cc0838",
   "metadata": {},
   "source": [
    "bigmart_df.isna().sum()"
   ]
  },
  {
   "cell_type": "code",
   "execution_count": 7,
   "id": "19b88f6b-a476-4c36-aadd-c87c8061952a",
   "metadata": {},
   "outputs": [
    {
     "data": {
      "text/plain": [
       "Index(['Item_Weight', 'Item_Visibility', 'Item_MRP',\n",
       "       'Outlet_Establishment_Year', 'Item_Outlet_Sales'],\n",
       "      dtype='object')"
      ]
     },
     "execution_count": 7,
     "metadata": {},
     "output_type": "execute_result"
    }
   ],
   "source": [
    "# Select numerical columns\n",
    "numerical_columns = bigmart_df.select_dtypes(include=['number']).columns\n",
    "numerical_columns"
   ]
  },
  {
   "cell_type": "code",
   "execution_count": 8,
   "id": "52db97ff-9fe0-4f64-952f-0a49b88a8614",
   "metadata": {},
   "outputs": [
    {
     "data": {
      "text/plain": [
       "Index(['Item_Identifier', 'Item_Fat_Content', 'Item_Type', 'Outlet_Identifier',\n",
       "       'Outlet_Size', 'Outlet_Location_Type', 'Outlet_Type'],\n",
       "      dtype='object')"
      ]
     },
     "execution_count": 8,
     "metadata": {},
     "output_type": "execute_result"
    }
   ],
   "source": [
    "# Select categorical columns\n",
    "categorical_columns = bigmart_df.select_dtypes(include=['object', 'category']).columns\n",
    "categorical_columns"
   ]
  },
  {
   "cell_type": "markdown",
   "id": "75e6c4f8-497a-4fbc-94b0-49955dff3759",
   "metadata": {},
   "source": [
    "### Handling Missing Values"
   ]
  },
  {
   "cell_type": "code",
   "execution_count": 9,
   "id": "69f9c844-f9e1-43e1-9e3d-4c19346ae8dd",
   "metadata": {},
   "outputs": [
    {
     "data": {
      "image/png": "[encoded data removed]",
      "text/plain": [
       "<Figure size 600x600 with 1 Axes>"
      ]
     },
     "metadata": {},
     "output_type": "display_data"
    }
   ],
   "source": [
    "# Setting the size of the figure to 6 inches by 6 inches\n",
    "plt.figure(figsize=(6,6))\n",
    "\n",
    "# Creating a distribution plot for the 'Item_Weight' column in the 'bigmart_df' DataFrame\n",
    "# 'sns.distplot()' is used to visualize the distribution of a univariate dataset\n",
    "# It shows a histogram with a Kernel Density Estimate (KDE) by default\n",
    "sns.distplot(bigmart_df['Item_Weight'])\n",
    "\n",
    "# Displaying the plot\n",
    "plt.show()"
   ]
  },
  {
   "cell_type": "code",
   "execution_count": 10,
   "id": "22a1f915-a5c0-4f54-96db-09dabc2fc69f",
   "metadata": {},
   "outputs": [],
   "source": [
    "# Its look like that the item_weight is normaly distributed so that we can replace the missing values with mean\n",
    "# Filling missing values in the 'Item_Weight' column of the 'bigmart_df' DataFrame\n",
    "# 'fillna()' replaces NaN (missing) values with a specified value\n",
    "# 'bigmart_df['Item_Weight'].mean()' calculates the mean of the 'Item_Weight' column\n",
    "# 'inplace=True' modifies the DataFrame directly without creating a copy\n",
    "bigmart_df['Item_Weight'].fillna(bigmart_df['Item_Weight'].mean(), inplace=True)"
   ]
  },
  {
   "cell_type": "code",
   "execution_count": 11,
   "id": "aa6fce67-5f15-46a8-b57a-aff47610ce6d",
   "metadata": {},
   "outputs": [
    {
     "data": {
      "text/plain": [
       "Item_Identifier                 0\n",
       "Item_Weight                     0\n",
       "Item_Fat_Content                0\n",
       "Item_Visibility                 0\n",
       "Item_Type                       0\n",
       "Item_MRP                        0\n",
       "Outlet_Identifier               0\n",
       "Outlet_Establishment_Year       0\n",
       "Outlet_Size                  2410\n",
       "Outlet_Location_Type            0\n",
       "Outlet_Type                     0\n",
       "Item_Outlet_Sales               0\n",
       "dtype: int64"
      ]
     },
     "execution_count": 11,
     "metadata": {},
     "output_type": "execute_result"
    }
   ],
   "source": [
    "bigmart_df.isna().sum()"
   ]
  },
  {
   "cell_type": "code",
   "execution_count": 12,
   "id": "93971727-cce1-41d7-9021-1933601835ff",
   "metadata": {},
   "outputs": [],
   "source": [
    "# Define function to fill missing values\n",
    "def fill_outlet_size(row):\n",
    "    if pd.isna(row['Outlet_Size']):\n",
    "        if row['Outlet_Type'] == 'Grocery Store':\n",
    "            return 'Small'\n",
    "        elif row['Outlet_Type'] == 'Supermarket Type1':\n",
    "            return np.random.choice(['Small', 'Medium', 'High'])\n",
    "        elif row['Outlet_Type'] == 'Supermarket Type2':\n",
    "            return 'Medium'\n",
    "        elif row['Outlet_Type'] == 'Supermarket Type3':\n",
    "            return 'Medium'\n",
    "    else:\n",
    "        return row['Outlet_Size']"
   ]
  },
  {
   "cell_type": "code",
   "execution_count": 13,
   "id": "cff86dc1-f6dd-4c25-b534-c09e33be7415",
   "metadata": {},
   "outputs": [],
   "source": [
    "bigmart_df['Outlet_Size'] = bigmart_df.apply(fill_outlet_size, axis=1)"
   ]
  },
  {
   "cell_type": "code",
   "execution_count": 14,
   "id": "35fb7f22-e3a5-4d58-8db0-f56550a0a769",
   "metadata": {},
   "outputs": [
    {
     "data": {
      "text/plain": [
       "Item_Identifier              0\n",
       "Item_Weight                  0\n",
       "Item_Fat_Content             0\n",
       "Item_Visibility              0\n",
       "Item_Type                    0\n",
       "Item_MRP                     0\n",
       "Outlet_Identifier            0\n",
       "Outlet_Establishment_Year    0\n",
       "Outlet_Size                  0\n",
       "Outlet_Location_Type         0\n",
       "Outlet_Type                  0\n",
       "Item_Outlet_Sales            0\n",
       "dtype: int64"
      ]
     },
     "execution_count": 14,
     "metadata": {},
     "output_type": "execute_result"
    }
   ],
   "source": [
    "bigmart_df.isna().sum()"
   ]
  },
  {
   "cell_type": "code",
   "execution_count": 15,
   "id": "03795138-7483-4879-be73-005dfc63336c",
   "metadata": {},
   "outputs": [
    {
     "data": {
      "text/plain": [
       "Index(['Item_Identifier', 'Item_Weight', 'Item_Fat_Content', 'Item_Visibility',\n",
       "       'Item_Type', 'Item_MRP', 'Outlet_Identifier',\n",
       "       'Outlet_Establishment_Year', 'Outlet_Size', 'Outlet_Location_Type',\n",
       "       'Outlet_Type', 'Item_Outlet_Sales'],\n",
       "      dtype='object')"
      ]
     },
     "execution_count": 15,
     "metadata": {},
     "output_type": "execute_result"
    }
   ],
   "source": [
    "bigmart_df.columns"
   ]
  },
  {
   "cell_type": "markdown",
   "id": "5030c4c7-2fbf-49b7-9b80-a2909ab55b03",
   "metadata": {},
   "source": [
    "### Visualization"
   ]
  },
  {
   "cell_type": "markdown",
   "id": "280a56ab-7bf4-4e36-83d5-003ab29be48f",
   "metadata": {},
   "source": [
    "#### ['Item_Identifier']"
   ]
  },
  {
   "cell_type": "code",
   "execution_count": 16,
   "id": "35d5a52e-b112-4e97-b44a-3acd9f9c57a1",
   "metadata": {},
   "outputs": [
    {
     "data": {
      "text/plain": [
       "array(['FDA15', 'DRC01', 'FDN15', ..., 'NCF55', 'NCW30', 'NCW05'],\n",
       "      dtype=object)"
      ]
     },
     "execution_count": 16,
     "metadata": {},
     "output_type": "execute_result"
    }
   ],
   "source": [
    "bigmart_df['Item_Identifier'].unique()"
   ]
  },
  {
   "cell_type": "code",
   "execution_count": 17,
   "id": "ce8f07ba-97bc-4f9d-b359-f96d3c4a4bd1",
   "metadata": {},
   "outputs": [
    {
     "data": {
      "text/plain": [
       "Item_Identifier\n",
       "FDW13    10\n",
       "FDG33    10\n",
       "NCY18     9\n",
       "FDD38     9\n",
       "DRE49     9\n",
       "         ..\n",
       "FDY43     1\n",
       "FDQ60     1\n",
       "FDO33     1\n",
       "DRF48     1\n",
       "FDC23     1\n",
       "Name: count, Length: 1559, dtype: int64"
      ]
     },
     "execution_count": 17,
     "metadata": {},
     "output_type": "execute_result"
    }
   ],
   "source": [
    "bigmart_df['Item_Identifier'].value_counts()"
   ]
  },
  {
   "cell_type": "markdown",
   "id": "5060b743-478a-416f-a757-ecb4a76f39e3",
   "metadata": {},
   "source": [
    "#### ['Item_Weight']"
   ]
  },
  {
   "cell_type": "code",
   "execution_count": 18,
   "id": "a1bc93c0-74b1-45d3-a618-c03dfab64208",
   "metadata": {},
   "outputs": [
    {
     "data": {
      "text/plain": [
       "array([ 9.3       ,  5.92      , 17.5       , 19.2       ,  8.93      ,\n",
       "       10.395     , 13.65      , 12.85764518, 16.2       , 11.8       ,\n",
       "       18.5       , 15.1       , 17.6       , 16.35      ,  9.        ,\n",
       "       13.35      , 18.85      , 14.6       , 13.85      , 13.        ,\n",
       "        7.645     , 11.65      ,  5.925     , 19.25      , 18.6       ,\n",
       "       18.7       , 17.85      , 10.        ,  8.85      ,  9.8       ,\n",
       "       13.6       , 21.35      , 12.15      ,  6.42      , 19.6       ,\n",
       "       15.85      ,  7.39      , 10.195     ,  9.895     , 10.895     ,\n",
       "        7.905     ,  9.195     ,  8.365     ,  7.97      , 17.7       ,\n",
       "       19.35      ,  8.645     , 15.6       , 18.25      ,  7.855     ,\n",
       "        7.825     ,  8.39      , 12.85      , 19.        ,  5.905     ,\n",
       "        7.76      , 16.75      , 15.5       ,  6.055     ,  6.305     ,\n",
       "       20.85      , 20.75      ,  8.895     , 19.7       ,  8.75      ,\n",
       "       13.3       ,  8.31      , 19.75      , 17.1       , 10.5       ,\n",
       "        6.635     , 14.15      ,  8.89      ,  9.1       ,  7.5       ,\n",
       "       16.85      ,  7.485     , 11.6       , 12.65      , 20.25      ,\n",
       "        8.6       , 12.6       ,  8.88      , 20.5       , 13.5       ,\n",
       "        7.235     ,  6.92      ,  8.02      , 12.8       , 16.6       ,\n",
       "       14.        , 16.        , 21.25      ,  7.365     , 18.35      ,\n",
       "        5.465     ,  7.27      ,  6.155     , 19.5       , 15.2       ,\n",
       "       14.5       , 13.1       , 12.3       , 11.1       , 11.3       ,\n",
       "        5.75      , 11.35      ,  6.525     , 10.3       ,  5.78      ,\n",
       "       11.85      , 18.75      ,  5.26      , 16.1       ,  9.5       ,\n",
       "       13.8       , 14.65      ,  6.67      ,  6.11      , 17.2       ,\n",
       "        6.32      ,  4.88      ,  5.425     , 14.1       ,  7.55      ,\n",
       "       17.25      , 12.        , 10.1       ,  7.785     , 13.15      ,\n",
       "        8.5       ,  7.63      ,  9.285     ,  7.975     , 15.7       ,\n",
       "        8.985     , 20.35      ,  6.59      , 19.85      ,  6.26      ,\n",
       "       18.2       ,  8.695     ,  7.075     ,  8.195     ,  7.09      ,\n",
       "        6.095     ,  6.15      ,  9.395     , 15.75      ,  7.475     ,\n",
       "        6.445     , 19.1       , 15.        , 16.7       ,  7.07      ,\n",
       "        6.48      ,  9.695     , 11.15      ,  9.6       , 20.7       ,\n",
       "        5.5       ,  7.895     , 17.35      ,  7.285     ,  6.17      ,\n",
       "       11.395     ,  7.71      , 12.1       , 14.35      ,  8.1       ,\n",
       "        8.05      , 16.5       ,  6.785     ,  7.575     ,  7.47      ,\n",
       "       15.25      ,  7.605     , 18.        , 21.2       ,  8.97      ,\n",
       "       10.6       ,  6.865     , 10.8       , 15.15      , 18.1       ,\n",
       "        6.655     , 20.1       ,  7.935     , 15.35      , 12.35      ,\n",
       "        6.85      ,  8.775     , 14.85      ,  7.84      , 12.5       ,\n",
       "        8.325     ,  5.765     ,  5.985     , 14.3       ,  6.135     ,\n",
       "        8.51      ,  6.65      ,  5.695     ,  6.36      ,  8.3       ,\n",
       "        7.56      ,  8.71      ,  6.695     , 14.8       , 17.75      ,\n",
       "        8.575     ,  6.57      ,  8.68      ,  5.63      ,  9.13      ,\n",
       "        6.715     ,  5.82      ,  7.93      ,  5.        ,  7.445     ,\n",
       "        6.675     ,  8.18      ,  6.98      ,  7.435     , 20.6       ,\n",
       "        8.355     ,  8.975     , 20.2       ,  5.655     ,  5.175     ,\n",
       "       20.        ,  7.67      ,  4.785     ,  8.395     ,  6.175     ,\n",
       "        8.21      ,  5.845     ,  7.17      ,  8.785     ,  7.89      ,\n",
       "        5.32      ,  5.03      ,  8.945     ,  6.28      ,  7.565     ,\n",
       "        9.31      ,  7.02      ,  5.46      ,  6.13      ,  6.55      ,\n",
       "       17.        , 16.25      ,  5.15      ,  7.865     ,  6.575     ,\n",
       "        7.06      ,  5.785     ,  7.42      ,  6.235     ,  6.75      ,\n",
       "        5.86      ,  5.035     ,  6.38      ,  5.675     , 11.5       ,\n",
       "       21.        , 21.1       ,  4.61      ,  7.        ,  6.405     ,\n",
       "       14.7       ,  7.68      ,  8.185     ,  8.655     , 10.85      ,\n",
       "        8.42      ,  7.85      ,  4.59      ,  7.51      , 11.        ,\n",
       "        6.71      , 14.75      ,  7.59      ,  5.155     ,  6.365     ,\n",
       "        8.235     ,  5.365     ,  8.485     ,  7.535     ,  4.92      ,\n",
       "        6.385     ,  8.26      ,  7.945     ,  8.63      ,  9.21      ,\n",
       "        6.965     ,  8.905     ,  7.21      ,  7.3       ,  9.27      ,\n",
       "       10.695     ,  6.215     ,  7.405     ,  7.72      ,  6.115     ,\n",
       "        6.035     ,  6.78      , 15.3       ,  7.105     ,  7.52      ,\n",
       "        4.805     ,  6.425     ,  7.6       ,  6.61      ,  7.325     ,\n",
       "        8.115     ,  5.94      ,  5.635     ,  7.35      ,  5.825     ,\n",
       "        6.63      ,  7.05      ,  8.315     ,  6.8       ,  7.035     ,\n",
       "        8.96      ,  5.51      ,  8.43      ,  8.27      ,  7.81      ,\n",
       "        6.885     ,  5.44      ,  5.405     ,  4.635     , 10.65      ,\n",
       "        5.735     ,  6.465     ,  8.84      ,  7.75      ,  6.765     ,\n",
       "        9.065     ,  7.655     ,  4.615     ,  8.76      ,  7.1       ,\n",
       "        6.195     ,  5.615     ,  8.52      ,  7.26      ,  6.825     ,\n",
       "        5.325     ,  5.59      ,  5.88      ,  5.19      ,  6.985     ,\n",
       "        9.06      ,  6.69      ,  8.615     ,  7.275     ,  6.96      ,\n",
       "        9.17      ,  8.155     ,  5.73      ,  8.935     ,  8.92      ,\n",
       "        7.36      ,  7.64      ,  5.34      ,  7.22      ,  6.615     ,\n",
       "        6.76      ,  6.3       ,  5.98      ,  8.06      ,  6.44      ,\n",
       "        5.095     ,  8.8       ,  6.325     ,  7.31      ,  9.035     ,\n",
       "        9.105     ,  7.145     ,  4.905     ,  4.555     ,  8.        ,\n",
       "        7.315     ,  6.89      ,  5.945     ,  6.86      ,  6.935     ,\n",
       "        6.03      ,  7.725     ,  5.885     ,  7.155     ,  6.46      ,\n",
       "        5.48      ,  8.01      ,  5.8       ,  5.305     ,  6.905     ,\n",
       "        7.96      ,  5.11      ,  8.77      ,  7.685     ,  8.275     ,\n",
       "        8.38      ,  8.35      ,  9.42      ,  6.775     ,  6.4       ,\n",
       "        6.895     ,  5.485     ,  6.52      ,  8.67      ,  5.21      ,\n",
       "        5.4       ])"
      ]
     },
     "execution_count": 18,
     "metadata": {},
     "output_type": "execute_result"
    }
   ],
   "source": [
    "bigmart_df['Item_Weight'].unique()               "
   ]
  },
  {
   "cell_type": "code",
   "execution_count": 19,
   "id": "18d63e70-ceef-4681-b030-1e8c593bd4b4",
   "metadata": {},
   "outputs": [
    {
     "data": {
      "text/plain": [
       "Item_Weight\n",
       "12.857645    1463\n",
       "12.150000      86\n",
       "17.600000      82\n",
       "13.650000      77\n",
       "11.800000      76\n",
       "             ... \n",
       "7.275000        2\n",
       "7.685000        1\n",
       "9.420000        1\n",
       "6.520000        1\n",
       "5.400000        1\n",
       "Name: count, Length: 416, dtype: int64"
      ]
     },
     "execution_count": 19,
     "metadata": {},
     "output_type": "execute_result"
    }
   ],
   "source": [
    "bigmart_df['Item_Weight'].value_counts()"
   ]
  },
  {
   "cell_type": "code",
   "execution_count": 20,
   "id": "1c473c43-0a46-4325-b388-881cd5b7ea8b",
   "metadata": {},
   "outputs": [
    {
     "data": {
      "image/png": "[encoded data removed]",
      "text/plain": [
       "<Figure size 600x600 with 1 Axes>"
      ]
     },
     "metadata": {},
     "output_type": "display_data"
    }
   ],
   "source": [
    "plt.figure(figsize=(6,6))\n",
    "sns.distplot(bigmart_df['Item_Weight'])\n",
    "plt.show()"
   ]
  },
  {
   "cell_type": "markdown",
   "id": "67a834c3-5d94-442d-b7ee-339565dcfcc1",
   "metadata": {},
   "source": [
    "#### ['Item_Fat_Content']"
   ]
  },
  {
   "cell_type": "code",
   "execution_count": 21,
   "id": "a482ae3c-d6a4-4b7e-98e5-7d278f0a5fc4",
   "metadata": {},
   "outputs": [
    {
     "data": {
      "text/plain": [
       "array(['Low Fat', 'Regular', 'low fat', 'LF', 'reg'], dtype=object)"
      ]
     },
     "execution_count": 21,
     "metadata": {},
     "output_type": "execute_result"
    }
   ],
   "source": [
    "bigmart_df.Item_Fat_Content.unique()"
   ]
  },
  {
   "cell_type": "code",
   "execution_count": 22,
   "id": "6e2880b1-fab1-42b9-a860-6d1ada40f8cb",
   "metadata": {},
   "outputs": [
    {
     "data": {
      "text/plain": [
       "Item_Fat_Content\n",
       "Low Fat    5089\n",
       "Regular    2889\n",
       "LF          316\n",
       "reg         117\n",
       "low fat     112\n",
       "Name: count, dtype: int64"
      ]
     },
     "execution_count": 22,
     "metadata": {},
     "output_type": "execute_result"
    }
   ],
   "source": [
    "bigmart_df.Item_Fat_Content.value_counts()"
   ]
  },
  {
   "cell_type": "code",
   "execution_count": 23,
   "id": "d896bc0e-23b2-4868-bdba-714cb3f78401",
   "metadata": {},
   "outputs": [],
   "source": [
    "# From above observation we need to change the LF and low fat to Low Fact and reg to Regular\n",
    "bigmart_df.Item_Fat_Content.replace({\"LF\":\"Low Fat\"},inplace=True)\n",
    "# Replace all in one line code\n",
    "# bigmart_df.replace({'Item_Fat_Content': {'low fat':'Low Fat','LF':'Low Fat', 'reg':'Regular'}}, inplace=True)"
   ]
  },
  {
   "cell_type": "code",
   "execution_count": 24,
   "id": "5bf9819f-dfa4-4f8e-a00b-a389bcfb1e28",
   "metadata": {},
   "outputs": [
    {
     "data": {
      "text/plain": [
       "Item_Fat_Content\n",
       "Low Fat    5405\n",
       "Regular    2889\n",
       "reg         117\n",
       "low fat     112\n",
       "Name: count, dtype: int64"
      ]
     },
     "execution_count": 24,
     "metadata": {},
     "output_type": "execute_result"
    }
   ],
   "source": [
    "bigmart_df.Item_Fat_Content.value_counts()"
   ]
  },
  {
   "cell_type": "code",
   "execution_count": 25,
   "id": "66ccd6af-d50d-4a25-91b9-c37fb89d4ca2",
   "metadata": {},
   "outputs": [],
   "source": [
    "bigmart_df.Item_Fat_Content.replace({\"low fat\":\"Low Fat\"},inplace=True)\n",
    "bigmart_df.Item_Fat_Content.replace({\"reg\":\"Regular\"},inplace=True)"
   ]
  },
  {
   "cell_type": "code",
   "execution_count": 26,
   "id": "2fc677ec-fa58-47a1-96f3-860d6786a17b",
   "metadata": {},
   "outputs": [
    {
     "data": {
      "text/plain": [
       "Item_Fat_Content\n",
       "Low Fat    5517\n",
       "Regular    3006\n",
       "Name: count, dtype: int64"
      ]
     },
     "execution_count": 26,
     "metadata": {},
     "output_type": "execute_result"
    }
   ],
   "source": [
    "bigmart_df.Item_Fat_Content.value_counts()"
   ]
  },
  {
   "cell_type": "code",
   "execution_count": 27,
   "id": "5b7472d4-6dac-47d2-b6b5-5be31969dcf0",
   "metadata": {},
   "outputs": [
    {
     "data": {
      "image/png": "[encoded data removed]",
      "text/plain": [
       "<Figure size 600x600 with 1 Axes>"
      ]
     },
     "metadata": {},
     "output_type": "display_data"
    }
   ],
   "source": [
    "plt.figure(figsize=(6,6))\n",
    "sns.countplot(x='Item_Fat_Content', data=bigmart_df)\n",
    "plt.show()"
   ]
  },
  {
   "cell_type": "code",
   "execution_count": 28,
   "id": "a6ad0ce8-bbf7-4cd5-8916-cc9020f38b0b",
   "metadata": {},
   "outputs": [
    {
     "data": {
      "text/plain": [
       "Index(['Item_Identifier', 'Item_Weight', 'Item_Fat_Content', 'Item_Visibility',\n",
       "       'Item_Type', 'Item_MRP', 'Outlet_Identifier',\n",
       "       'Outlet_Establishment_Year', 'Outlet_Size', 'Outlet_Location_Type',\n",
       "       'Outlet_Type', 'Item_Outlet_Sales'],\n",
       "      dtype='object')"
      ]
     },
     "execution_count": 28,
     "metadata": {},
     "output_type": "execute_result"
    }
   ],
   "source": [
    "bigmart_df.columns"
   ]
  },
  {
   "cell_type": "markdown",
   "id": "33b4a966-891b-41a5-8587-77fd29dfdf64",
   "metadata": {},
   "source": [
    "#### ['Item_Visibility']"
   ]
  },
  {
   "cell_type": "code",
   "execution_count": 29,
   "id": "6d151a41-653d-4cc6-8338-ae20bd1c0ab8",
   "metadata": {},
   "outputs": [
    {
     "data": {
      "text/plain": [
       "array([0.0160473 , 0.01927822, 0.01676007, ..., 0.03518627, 0.14522065,\n",
       "       0.04487828])"
      ]
     },
     "execution_count": 29,
     "metadata": {},
     "output_type": "execute_result"
    }
   ],
   "source": [
    "bigmart_df.Item_Visibility.unique()"
   ]
  },
  {
   "cell_type": "code",
   "execution_count": 30,
   "id": "6d772664-7a05-4c45-b225-08f0d68f100a",
   "metadata": {},
   "outputs": [
    {
     "data": {
      "text/plain": [
       "Item_Visibility\n",
       "0.000000    526\n",
       "0.076975      3\n",
       "0.162462      2\n",
       "0.076841      2\n",
       "0.073562      2\n",
       "           ... \n",
       "0.013957      1\n",
       "0.110460      1\n",
       "0.124646      1\n",
       "0.054142      1\n",
       "0.044878      1\n",
       "Name: count, Length: 7880, dtype: int64"
      ]
     },
     "execution_count": 30,
     "metadata": {},
     "output_type": "execute_result"
    }
   ],
   "source": [
    "bigmart_df.Item_Visibility.value_counts()"
   ]
  },
  {
   "cell_type": "markdown",
   "id": "8fd3e44a-4ef0-475a-951c-f0ce1aaba73e",
   "metadata": {},
   "source": [
    "#### ['Item_Type']"
   ]
  },
  {
   "cell_type": "code",
   "execution_count": 31,
   "id": "d2e032ef-a102-4f40-9912-c9b369679871",
   "metadata": {},
   "outputs": [
    {
     "data": {
      "text/plain": [
       "array(['Dairy', 'Soft Drinks', 'Meat', 'Fruits and Vegetables',\n",
       "       'Household', 'Baking Goods', 'Snack Foods', 'Frozen Foods',\n",
       "       'Breakfast', 'Health and Hygiene', 'Hard Drinks', 'Canned',\n",
       "       'Breads', 'Starchy Foods', 'Others', 'Seafood'], dtype=object)"
      ]
     },
     "execution_count": 31,
     "metadata": {},
     "output_type": "execute_result"
    }
   ],
   "source": [
    "bigmart_df.Item_Type.unique()"
   ]
  },
  {
   "cell_type": "code",
   "execution_count": 32,
   "id": "63fd788e-266e-445a-b745-257b65ed5013",
   "metadata": {},
   "outputs": [
    {
     "data": {
      "text/plain": [
       "Item_Type\n",
       "Fruits and Vegetables    1232\n",
       "Snack Foods              1200\n",
       "Household                 910\n",
       "Frozen Foods              856\n",
       "Dairy                     682\n",
       "Canned                    649\n",
       "Baking Goods              648\n",
       "Health and Hygiene        520\n",
       "Soft Drinks               445\n",
       "Meat                      425\n",
       "Breads                    251\n",
       "Hard Drinks               214\n",
       "Others                    169\n",
       "Starchy Foods             148\n",
       "Breakfast                 110\n",
       "Seafood                    64\n",
       "Name: count, dtype: int64"
      ]
     },
     "execution_count": 32,
     "metadata": {},
     "output_type": "execute_result"
    }
   ],
   "source": [
    "bigmart_df.Item_Type.value_counts()"
   ]
  },
  {
   "cell_type": "code",
   "execution_count": 33,
   "id": "a56eeb00-9ee7-4b3b-b5f2-a7ce76a8c5de",
   "metadata": {},
   "outputs": [
    {
     "data": {
      "image/png": "[encoded data removed]",
      "text/plain": [
       "<Figure size 600x600 with 1 Axes>"
      ]
     },
     "metadata": {},
     "output_type": "display_data"
    }
   ],
   "source": [
    "plt.figure(figsize=(6,6))\n",
    "sns.countplot(x='Item_Type',data=bigmart_df)\n",
    "plt.xticks(rotation=90)\n",
    "plt.show()"
   ]
  },
  {
   "cell_type": "code",
   "execution_count": 34,
   "id": "3638fd75-3e9c-459e-ad7e-6a5b63c8e190",
   "metadata": {},
   "outputs": [
    {
     "data": {
      "text/plain": [
       "Index(['Item_Identifier', 'Item_Weight', 'Item_Fat_Content', 'Item_Visibility',\n",
       "       'Item_Type', 'Item_MRP', 'Outlet_Identifier',\n",
       "       'Outlet_Establishment_Year', 'Outlet_Size', 'Outlet_Location_Type',\n",
       "       'Outlet_Type', 'Item_Outlet_Sales'],\n",
       "      dtype='object')"
      ]
     },
     "execution_count": 34,
     "metadata": {},
     "output_type": "execute_result"
    }
   ],
   "source": [
    "bigmart_df.columns"
   ]
  },
  {
   "cell_type": "markdown",
   "id": "3cfaf1b5-9136-4bf0-8db1-5ec6369620ae",
   "metadata": {},
   "source": [
    "#### ['Item_MRP']"
   ]
  },
  {
   "cell_type": "code",
   "execution_count": 35,
   "id": "8d15df12-2214-44ea-b34e-3438cbb4eed3",
   "metadata": {},
   "outputs": [
    {
     "data": {
      "text/plain": [
       "array([249.8092,  48.2692, 141.618 , ...,  57.5904, 214.5218,  75.467 ])"
      ]
     },
     "execution_count": 35,
     "metadata": {},
     "output_type": "execute_result"
    }
   ],
   "source": [
    "bigmart_df.Item_MRP.unique()"
   ]
  },
  {
   "cell_type": "code",
   "execution_count": 36,
   "id": "a8294931-8744-4b28-9901-c32060cc56e6",
   "metadata": {},
   "outputs": [
    {
     "data": {
      "text/plain": [
       "Item_MRP\n",
       "172.0422    7\n",
       "170.5422    6\n",
       "196.5084    6\n",
       "188.1872    6\n",
       "142.0154    6\n",
       "           ..\n",
       "97.3384     1\n",
       "83.1934     1\n",
       "96.6752     1\n",
       "152.6682    1\n",
       "75.4670     1\n",
       "Name: count, Length: 5938, dtype: int64"
      ]
     },
     "execution_count": 36,
     "metadata": {},
     "output_type": "execute_result"
    }
   ],
   "source": [
    "bigmart_df.Item_MRP.value_counts()"
   ]
  },
  {
   "cell_type": "markdown",
   "id": "e75d5784-87c1-445d-a0a8-89d36ce3a612",
   "metadata": {},
   "source": [
    "#### ['Outlet_Identifier']"
   ]
  },
  {
   "cell_type": "code",
   "execution_count": 37,
   "id": "87ae545e-2f83-4ad1-8f6b-af147658b602",
   "metadata": {},
   "outputs": [
    {
     "data": {
      "text/plain": [
       "array(['OUT049', 'OUT018', 'OUT010', 'OUT013', 'OUT027', 'OUT045',\n",
       "       'OUT017', 'OUT046', 'OUT035', 'OUT019'], dtype=object)"
      ]
     },
     "execution_count": 37,
     "metadata": {},
     "output_type": "execute_result"
    }
   ],
   "source": [
    "bigmart_df.Outlet_Identifier.unique()"
   ]
  },
  {
   "cell_type": "code",
   "execution_count": 38,
   "id": "5c73c241-4768-492c-90c9-8760705e44c6",
   "metadata": {},
   "outputs": [
    {
     "data": {
      "text/plain": [
       "Outlet_Identifier\n",
       "OUT027    935\n",
       "OUT013    932\n",
       "OUT049    930\n",
       "OUT046    930\n",
       "OUT035    930\n",
       "OUT045    929\n",
       "OUT018    928\n",
       "OUT017    926\n",
       "OUT010    555\n",
       "OUT019    528\n",
       "Name: count, dtype: int64"
      ]
     },
     "execution_count": 38,
     "metadata": {},
     "output_type": "execute_result"
    }
   ],
   "source": [
    "bigmart_df.Outlet_Identifier.value_counts()"
   ]
  },
  {
   "cell_type": "code",
   "execution_count": 39,
   "id": "14969271-adb6-437f-9af7-7663b8bba406",
   "metadata": {},
   "outputs": [
    {
     "data": {
      "image/png": "[encoded data removed]",
      "text/plain": [
       "<Figure size 600x600 with 1 Axes>"
      ]
     },
     "metadata": {},
     "output_type": "display_data"
    }
   ],
   "source": [
    "plt.figure(figsize=(6,6))\n",
    "sns.countplot(x='Outlet_Identifier',data=bigmart_df)\n",
    "plt.xticks(rotation=90)\n",
    "plt.show()"
   ]
  },
  {
   "cell_type": "markdown",
   "id": "324ec07a-b9d1-4a14-805e-5ed9b4946632",
   "metadata": {},
   "source": [
    "#### ['Outlet_Establishment_Year']"
   ]
  },
  {
   "cell_type": "code",
   "execution_count": 40,
   "id": "c8374c62-eca4-4674-8cc6-918bb4a5f2cb",
   "metadata": {},
   "outputs": [
    {
     "data": {
      "text/plain": [
       "array([1999, 2009, 1998, 1987, 1985, 2002, 2007, 1997, 2004], dtype=int64)"
      ]
     },
     "execution_count": 40,
     "metadata": {},
     "output_type": "execute_result"
    }
   ],
   "source": [
    "bigmart_df.Outlet_Establishment_Year.unique()"
   ]
  },
  {
   "cell_type": "code",
   "execution_count": 41,
   "id": "cf35d3cb-a0ab-4718-956f-039da06ed765",
   "metadata": {},
   "outputs": [
    {
     "data": {
      "text/plain": [
       "Outlet_Establishment_Year\n",
       "1985    1463\n",
       "1987     932\n",
       "1999     930\n",
       "1997     930\n",
       "2004     930\n",
       "2002     929\n",
       "2009     928\n",
       "2007     926\n",
       "1998     555\n",
       "Name: count, dtype: int64"
      ]
     },
     "execution_count": 41,
     "metadata": {},
     "output_type": "execute_result"
    }
   ],
   "source": [
    "bigmart_df.Outlet_Establishment_Year.value_counts()"
   ]
  },
  {
   "cell_type": "code",
   "execution_count": 42,
   "id": "c903a91c-463b-411d-9bdf-e97f2c69a904",
   "metadata": {},
   "outputs": [
    {
     "data": {
      "image/png": "[encoded data removed]",
      "text/plain": [
       "<Figure size 600x600 with 1 Axes>"
      ]
     },
     "metadata": {},
     "output_type": "display_data"
    }
   ],
   "source": [
    "plt.figure(figsize=(6,6))\n",
    "sns.countplot(x='Outlet_Establishment_Year',data=bigmart_df)\n",
    "plt.xticks(rotation=90)\n",
    "plt.show()"
   ]
  },
  {
   "cell_type": "markdown",
   "id": "540ed58c-ac45-4d1d-9e5a-c78df2c609ee",
   "metadata": {},
   "source": [
    "#### ['Outlet_Size']"
   ]
  },
  {
   "cell_type": "code",
   "execution_count": 43,
   "id": "b044c478-1221-4fbe-8c26-dbd75d1f3ee1",
   "metadata": {},
   "outputs": [
    {
     "data": {
      "text/plain": [
       "array(['Medium', 'Small', 'High'], dtype=object)"
      ]
     },
     "execution_count": 43,
     "metadata": {},
     "output_type": "execute_result"
    }
   ],
   "source": [
    "bigmart_df.Outlet_Size.unique()"
   ]
  },
  {
   "cell_type": "code",
   "execution_count": 44,
   "id": "51c6af3b-3c16-4d65-97cd-c9120df7b47a",
   "metadata": {},
   "outputs": [
    {
     "data": {
      "text/plain": [
       "Outlet_Size\n",
       "Small     3621\n",
       "Medium    3383\n",
       "High      1519\n",
       "Name: count, dtype: int64"
      ]
     },
     "execution_count": 44,
     "metadata": {},
     "output_type": "execute_result"
    }
   ],
   "source": [
    "bigmart_df.Outlet_Size.value_counts()"
   ]
  },
  {
   "cell_type": "code",
   "execution_count": 45,
   "id": "1615b590-ceb0-4a91-ada1-286ec58c7d4c",
   "metadata": {},
   "outputs": [
    {
     "data": {
      "image/png": "[encoded data removed]",
      "text/plain": [
       "<Figure size 600x600 with 1 Axes>"
      ]
     },
     "metadata": {},
     "output_type": "display_data"
    }
   ],
   "source": [
    "plt.figure(figsize=(6,6))\n",
    "sns.countplot(x='Outlet_Size',data=bigmart_df)\n",
    "plt.xticks(rotation=90)\n",
    "plt.show()"
   ]
  },
  {
   "cell_type": "markdown",
   "id": "1ea9b2f8-4b5c-4af2-a48c-882c7daba7fe",
   "metadata": {},
   "source": [
    "#### ['Outlet_Location_Type']"
   ]
  },
  {
   "cell_type": "code",
   "execution_count": 46,
   "id": "43e06b49-abbb-4f82-b89a-0a3fccf3c2e4",
   "metadata": {},
   "outputs": [
    {
     "data": {
      "text/plain": [
       "array(['Tier 1', 'Tier 3', 'Tier 2'], dtype=object)"
      ]
     },
     "execution_count": 46,
     "metadata": {},
     "output_type": "execute_result"
    }
   ],
   "source": [
    "bigmart_df.Outlet_Location_Type.unique()"
   ]
  },
  {
   "cell_type": "code",
   "execution_count": 47,
   "id": "85d5e52b-2715-40bb-bb14-3134325b624d",
   "metadata": {},
   "outputs": [
    {
     "data": {
      "text/plain": [
       "Outlet_Location_Type\n",
       "Tier 3    3350\n",
       "Tier 2    2785\n",
       "Tier 1    2388\n",
       "Name: count, dtype: int64"
      ]
     },
     "execution_count": 47,
     "metadata": {},
     "output_type": "execute_result"
    }
   ],
   "source": [
    "bigmart_df.Outlet_Location_Type.value_counts()"
   ]
  },
  {
   "cell_type": "code",
   "execution_count": 48,
   "id": "13d96432-aa98-45ec-83e2-839754074538",
   "metadata": {},
   "outputs": [
    {
     "data": {
      "image/png": "[encoded data removed]",
      "text/plain": [
       "<Figure size 600x600 with 1 Axes>"
      ]
     },
     "metadata": {},
     "output_type": "display_data"
    }
   ],
   "source": [
    "plt.figure(figsize=(6,6))\n",
    "sns.countplot(x='Outlet_Location_Type',data=bigmart_df)\n",
    "plt.xticks(rotation=90)\n",
    "plt.show()"
   ]
  },
  {
   "cell_type": "markdown",
   "id": "fd96509b-3f8b-42da-9784-42f8c2bf2d7e",
   "metadata": {},
   "source": [
    "#### ['Outlet_Type']"
   ]
  },
  {
   "cell_type": "code",
   "execution_count": 49,
   "id": "776ceea5-f8be-4dcc-9b46-c1fcf3af8c64",
   "metadata": {},
   "outputs": [
    {
     "data": {
      "text/plain": [
       "array(['Supermarket Type1', 'Supermarket Type2', 'Grocery Store',\n",
       "       'Supermarket Type3'], dtype=object)"
      ]
     },
     "execution_count": 49,
     "metadata": {},
     "output_type": "execute_result"
    }
   ],
   "source": [
    "bigmart_df.Outlet_Type.unique()"
   ]
  },
  {
   "cell_type": "code",
   "execution_count": 50,
   "id": "652e2cee-5778-470e-8eeb-605616e3e48b",
   "metadata": {},
   "outputs": [
    {
     "data": {
      "text/plain": [
       "Outlet_Type\n",
       "Supermarket Type1    5577\n",
       "Grocery Store        1083\n",
       "Supermarket Type3     935\n",
       "Supermarket Type2     928\n",
       "Name: count, dtype: int64"
      ]
     },
     "execution_count": 50,
     "metadata": {},
     "output_type": "execute_result"
    }
   ],
   "source": [
    "bigmart_df.Outlet_Type.value_counts()"
   ]
  },
  {
   "cell_type": "code",
   "execution_count": 51,
   "id": "e7972f1e-28db-489f-8865-2fa1a3356909",
   "metadata": {},
   "outputs": [
    {
     "data": {
      "image/png": "[encoded data removed]",
      "text/plain": [
       "<Figure size 600x600 with 1 Axes>"
      ]
     },
     "metadata": {},
     "output_type": "display_data"
    }
   ],
   "source": [
    "plt.figure(figsize=(6,6))\n",
    "sns.countplot(x='Outlet_Type',data=bigmart_df)\n",
    "plt.xticks(rotation=90)\n",
    "plt.show()"
   ]
  },
  {
   "cell_type": "code",
   "execution_count": 52,
   "id": "220d7827-c331-40a2-ba87-6b5c39eaf300",
   "metadata": {},
   "outputs": [
    {
     "data": {
      "text/plain": [
       "Index(['Item_Identifier', 'Item_Fat_Content', 'Item_Type', 'Outlet_Identifier',\n",
       "       'Outlet_Size', 'Outlet_Location_Type', 'Outlet_Type'],\n",
       "      dtype='object')"
      ]
     },
     "execution_count": 52,
     "metadata": {},
     "output_type": "execute_result"
    }
   ],
   "source": [
    "# Select categorical columns\n",
    "categorical_columns = bigmart_df.select_dtypes(include=['object', 'category']).columns\n",
    "categorical_columns"
   ]
  },
  {
   "cell_type": "code",
   "execution_count": 53,
   "id": "7134c42b-60bc-419c-be75-7474d695d279",
   "metadata": {},
   "outputs": [],
   "source": [
    "# Convert the categorical columns into the numerical format\n",
    "encoder = LabelEncoder()"
   ]
  },
  {
   "cell_type": "code",
   "execution_count": 54,
   "id": "5e89fb25-f6e1-4424-92ce-0d19a243d1df",
   "metadata": {},
   "outputs": [],
   "source": [
    "bigmart_df['Item_Identifier'] = encoder.fit_transform(bigmart_df['Item_Identifier'])\n",
    "\n",
    "bigmart_df['Item_Fat_Content'] = encoder.fit_transform(bigmart_df['Item_Fat_Content'])\n",
    "\n",
    "bigmart_df['Item_Type'] = encoder.fit_transform(bigmart_df['Item_Type'])\n",
    "\n",
    "bigmart_df['Outlet_Identifier'] = encoder.fit_transform(bigmart_df['Outlet_Identifier'])\n",
    "\n",
    "bigmart_df['Outlet_Size'] = encoder.fit_transform(bigmart_df['Outlet_Size'])\n",
    "\n",
    "bigmart_df['Outlet_Location_Type'] = encoder.fit_transform(bigmart_df['Outlet_Location_Type'])\n",
    "\n",
    "bigmart_df['Outlet_Type'] = encoder.fit_transform(bigmart_df['Outlet_Type'])"
   ]
  },
  {
   "cell_type": "code",
   "execution_count": 55,
   "id": "d211e59e-ad42-4a70-b064-1b4cc5503f7f",
   "metadata": {},
   "outputs": [
    {
     "data": {
      "text/html": [
       "<div>\n",
       "<style scoped>\n",
       "    .dataframe tbody tr th:only-of-type {\n",
       "        vertical-align: middle;\n",
       "    }\n",
       "\n",
       "    .dataframe tbody tr th {\n",
       "        vertical-align: top;\n",
       "    }\n",
       "\n",
       "    .dataframe thead th {\n",
       "        text-align: right;\n",
       "    }\n",
       "</style>\n",
       "<table border=\"1\" class=\"dataframe\">\n",
       "  <thead>\n",
       "    <tr style=\"text-align: right;\">\n",
       "      <th></th>\n",
       "      <th>Item_Identifier</th>\n",
       "      <th>Item_Weight</th>\n",
       "      <th>Item_Fat_Content</th>\n",
       "      <th>Item_Visibility</th>\n",
       "      <th>Item_Type</th>\n",
       "      <th>Item_MRP</th>\n",
       "      <th>Outlet_Identifier</th>\n",
       "      <th>Outlet_Establishment_Year</th>\n",
       "      <th>Outlet_Size</th>\n",
       "      <th>Outlet_Location_Type</th>\n",
       "      <th>Outlet_Type</th>\n",
       "      <th>Item_Outlet_Sales</th>\n",
       "    </tr>\n",
       "  </thead>\n",
       "  <tbody>\n",
       "    <tr>\n",
       "      <th>0</th>\n",
       "      <td>156</td>\n",
       "      <td>9.30</td>\n",
       "      <td>0</td>\n",
       "      <td>0.016047</td>\n",
       "      <td>4</td>\n",
       "      <td>249.8092</td>\n",
       "      <td>9</td>\n",
       "      <td>1999</td>\n",
       "      <td>1</td>\n",
       "      <td>0</td>\n",
       "      <td>1</td>\n",
       "      <td>3735.1380</td>\n",
       "    </tr>\n",
       "    <tr>\n",
       "      <th>1</th>\n",
       "      <td>8</td>\n",
       "      <td>5.92</td>\n",
       "      <td>1</td>\n",
       "      <td>0.019278</td>\n",
       "      <td>14</td>\n",
       "      <td>48.2692</td>\n",
       "      <td>3</td>\n",
       "      <td>2009</td>\n",
       "      <td>1</td>\n",
       "      <td>2</td>\n",
       "      <td>2</td>\n",
       "      <td>443.4228</td>\n",
       "    </tr>\n",
       "    <tr>\n",
       "      <th>2</th>\n",
       "      <td>662</td>\n",
       "      <td>17.50</td>\n",
       "      <td>0</td>\n",
       "      <td>0.016760</td>\n",
       "      <td>10</td>\n",
       "      <td>141.6180</td>\n",
       "      <td>9</td>\n",
       "      <td>1999</td>\n",
       "      <td>1</td>\n",
       "      <td>0</td>\n",
       "      <td>1</td>\n",
       "      <td>2097.2700</td>\n",
       "    </tr>\n",
       "    <tr>\n",
       "      <th>3</th>\n",
       "      <td>1121</td>\n",
       "      <td>19.20</td>\n",
       "      <td>1</td>\n",
       "      <td>0.000000</td>\n",
       "      <td>6</td>\n",
       "      <td>182.0950</td>\n",
       "      <td>0</td>\n",
       "      <td>1998</td>\n",
       "      <td>2</td>\n",
       "      <td>2</td>\n",
       "      <td>0</td>\n",
       "      <td>732.3800</td>\n",
       "    </tr>\n",
       "    <tr>\n",
       "      <th>4</th>\n",
       "      <td>1297</td>\n",
       "      <td>8.93</td>\n",
       "      <td>0</td>\n",
       "      <td>0.000000</td>\n",
       "      <td>9</td>\n",
       "      <td>53.8614</td>\n",
       "      <td>1</td>\n",
       "      <td>1987</td>\n",
       "      <td>0</td>\n",
       "      <td>2</td>\n",
       "      <td>1</td>\n",
       "      <td>994.7052</td>\n",
       "    </tr>\n",
       "  </tbody>\n",
       "</table>\n",
       "</div>"
      ],
      "text/plain": [
       "   Item_Identifier  Item_Weight  Item_Fat_Content  Item_Visibility  Item_Type  \\\n",
       "0              156         9.30                 0         0.016047          4   \n",
       "1                8         5.92                 1         0.019278         14   \n",
       "2              662        17.50                 0         0.016760         10   \n",
       "3             1121        19.20                 1         0.000000          6   \n",
       "4             1297         8.93                 0         0.000000          9   \n",
       "\n",
       "   Item_MRP  Outlet_Identifier  Outlet_Establishment_Year  Outlet_Size  \\\n",
       "0  249.8092                  9                       1999            1   \n",
       "1   48.2692                  3                       2009            1   \n",
       "2  141.6180                  9                       1999            1   \n",
       "3  182.0950                  0                       1998            2   \n",
       "4   53.8614                  1                       1987            0   \n",
       "\n",
       "   Outlet_Location_Type  Outlet_Type  Item_Outlet_Sales  \n",
       "0                     0            1          3735.1380  \n",
       "1                     2            2           443.4228  \n",
       "2                     0            1          2097.2700  \n",
       "3                     2            0           732.3800  \n",
       "4                     2            1           994.7052  "
      ]
     },
     "execution_count": 55,
     "metadata": {},
     "output_type": "execute_result"
    }
   ],
   "source": [
    "bigmart_df.head()"
   ]
  },
  {
   "cell_type": "code",
   "execution_count": 56,
   "id": "d843ec62-f3af-4e80-a6f4-180e8193b55e",
   "metadata": {},
   "outputs": [],
   "source": [
    "X = bigmart_df.drop(columns='Item_Outlet_Sales',axis=1)\n",
    "y = bigmart_df.Item_Outlet_Sales"
   ]
  },
  {
   "cell_type": "code",
   "execution_count": 57,
   "id": "8bbeae69-0303-4f82-8aa2-dc63e7d6284c",
   "metadata": {},
   "outputs": [],
   "source": [
    "X_train,X_test,y_train,y_test = train_test_split(X,y,random_state=2,test_size=0.2)"
   ]
  },
  {
   "cell_type": "code",
   "execution_count": 58,
   "id": "b0ea248e-c86a-4e40-94e1-abbc79880e58",
   "metadata": {},
   "outputs": [],
   "source": [
    "scaler = StandardScaler()"
   ]
  },
  {
   "cell_type": "code",
   "execution_count": 59,
   "id": "a26c4e7a-6292-422c-a7fa-8d2ee2ab0859",
   "metadata": {},
   "outputs": [],
   "source": [
    "X_train = scaler.fit_transform(X_train)\n",
    "X_test = scaler.transform(X_test)"
   ]
  },
  {
   "cell_type": "code",
   "execution_count": 60,
   "id": "2b0030c3-ecda-43cf-9f5a-265d9402fe19",
   "metadata": {},
   "outputs": [],
   "source": [
    "models = [LinearRegression, Lasso, Ridge, SVR, DecisionTreeRegressor, RandomForestRegressor,GradientBoostingRegressor]\n",
    "mae_scores = []\n",
    "mse_scores = []\n",
    "rmse_scores = []\n",
    "r2_scores = []\n",
    "\n",
    "for model in models:\n",
    "    regressor = model().fit(X_train, y_train)\n",
    "    y_pred = regressor.predict(X_test)\n",
    "    \n",
    "    mae_scores.append(mean_absolute_error(y_test, y_pred))\n",
    "    mse_scores.append(mean_squared_error(y_test, y_pred))\n",
    "    rmse_scores.append(mean_squared_error(y_test, y_pred, squared=False))\n",
    "    r2_scores.append(r2_score(y_test, y_pred))"
   ]
  },
  {
   "cell_type": "code",
   "execution_count": 61,
   "id": "53dbcdea-709b-46be-a092-e37d4995f7ff",
   "metadata": {},
   "outputs": [
    {
     "data": {
      "text/html": [
       "<div>\n",
       "<style scoped>\n",
       "    .dataframe tbody tr th:only-of-type {\n",
       "        vertical-align: middle;\n",
       "    }\n",
       "\n",
       "    .dataframe tbody tr th {\n",
       "        vertical-align: top;\n",
       "    }\n",
       "\n",
       "    .dataframe thead th {\n",
       "        text-align: right;\n",
       "    }\n",
       "</style>\n",
       "<table border=\"1\" class=\"dataframe\">\n",
       "  <thead>\n",
       "    <tr style=\"text-align: right;\">\n",
       "      <th></th>\n",
       "      <th>Mean Absolute Error</th>\n",
       "      <th>Mean Squared Error</th>\n",
       "      <th>Root Mean Squared Error</th>\n",
       "      <th>R-squared (R2)</th>\n",
       "    </tr>\n",
       "    <tr>\n",
       "      <th>Model</th>\n",
       "      <th></th>\n",
       "      <th></th>\n",
       "      <th></th>\n",
       "      <th></th>\n",
       "    </tr>\n",
       "  </thead>\n",
       "  <tbody>\n",
       "    <tr>\n",
       "      <th>Linear Regression</th>\n",
       "      <td>938.724087</td>\n",
       "      <td>1.560674e+06</td>\n",
       "      <td>1249.269249</td>\n",
       "      <td>0.494449</td>\n",
       "    </tr>\n",
       "    <tr>\n",
       "      <th>Lasso</th>\n",
       "      <td>938.615356</td>\n",
       "      <td>1.560610e+06</td>\n",
       "      <td>1249.243622</td>\n",
       "      <td>0.494470</td>\n",
       "    </tr>\n",
       "    <tr>\n",
       "      <th>Ridge</th>\n",
       "      <td>938.713138</td>\n",
       "      <td>1.560676e+06</td>\n",
       "      <td>1249.270014</td>\n",
       "      <td>0.494448</td>\n",
       "    </tr>\n",
       "    <tr>\n",
       "      <th>SVR</th>\n",
       "      <td>1262.862240</td>\n",
       "      <td>2.980822e+06</td>\n",
       "      <td>1726.505818</td>\n",
       "      <td>0.034418</td>\n",
       "    </tr>\n",
       "    <tr>\n",
       "      <th>Decision Tree Regressor</th>\n",
       "      <td>1109.742163</td>\n",
       "      <td>2.534152e+06</td>\n",
       "      <td>1591.902099</td>\n",
       "      <td>0.179109</td>\n",
       "    </tr>\n",
       "    <tr>\n",
       "      <th>Random Forest Regressor</th>\n",
       "      <td>824.326859</td>\n",
       "      <td>1.378401e+06</td>\n",
       "      <td>1174.053448</td>\n",
       "      <td>0.553493</td>\n",
       "    </tr>\n",
       "    <tr>\n",
       "      <th>GradientBoostingRegressor</th>\n",
       "      <td>790.372775</td>\n",
       "      <td>1.280091e+06</td>\n",
       "      <td>1131.411246</td>\n",
       "      <td>0.585338</td>\n",
       "    </tr>\n",
       "  </tbody>\n",
       "</table>\n",
       "</div>"
      ],
      "text/plain": [
       "                           Mean Absolute Error  Mean Squared Error  \\\n",
       "Model                                                                \n",
       "Linear Regression                   938.724087        1.560674e+06   \n",
       "Lasso                               938.615356        1.560610e+06   \n",
       "Ridge                               938.713138        1.560676e+06   \n",
       "SVR                                1262.862240        2.980822e+06   \n",
       "Decision Tree Regressor            1109.742163        2.534152e+06   \n",
       "Random Forest Regressor             824.326859        1.378401e+06   \n",
       "GradientBoostingRegressor           790.372775        1.280091e+06   \n",
       "\n",
       "                           Root Mean Squared Error  R-squared (R2)  \n",
       "Model                                                               \n",
       "Linear Regression                      1249.269249        0.494449  \n",
       "Lasso                                  1249.243622        0.494470  \n",
       "Ridge                                  1249.270014        0.494448  \n",
       "SVR                                    1726.505818        0.034418  \n",
       "Decision Tree Regressor                1591.902099        0.179109  \n",
       "Random Forest Regressor                1174.053448        0.553493  \n",
       "GradientBoostingRegressor              1131.411246        0.585338  "
      ]
     },
     "execution_count": 61,
     "metadata": {},
     "output_type": "execute_result"
    }
   ],
   "source": [
    "regression_metrics_df = pd.DataFrame({\n",
    "    \"Model\": [\"Linear Regression\", \"Lasso\", \"Ridge\", \"SVR\", \"Decision Tree Regressor\", \"Random Forest Regressor\",\"GradientBoostingRegressor\"],\n",
    "    \"Mean Absolute Error\": mae_scores,\n",
    "    \"Mean Squared Error\": mse_scores,\n",
    "    \"Root Mean Squared Error\": rmse_scores,\n",
    "    \"R-squared (R2)\": r2_scores\n",
    "})\n",
    "\n",
    "regression_metrics_df.set_index('Model', inplace=True)\n",
    "regression_metrics_df"
   ]
  },
  {
   "cell_type": "code",
   "execution_count": 62,
   "id": "cf2b46a3-a62d-4c34-aa23-19dbba671dc8",
   "metadata": {},
   "outputs": [],
   "source": [
    "# Performing hyperparameter tunning\n",
    "# gbr = GradientBoostingRegressor()\n",
    "\n",
    "# # Define the hyperparameter grid\n",
    "# param_grid = {\n",
    "#     'n_estimators': [50, 100, 150],\n",
    "#     'learning_rate': [0.01, 0.1, 0.2],\n",
    "#     'max_depth': [3, 5, 7],\n",
    "#     'min_samples_split': [2, 5, 10],\n",
    "#     'min_samples_leaf': [1, 2, 4]\n",
    "# }\n",
    "\n",
    "# # Initialize GridSearchCV\n",
    "# grid_search = GridSearchCV(estimator=gbr, param_grid=param_grid, cv=5, scoring='neg_mean_squared_error', verbose=2, n_jobs=-1)\n",
    "\n",
    "# # Fit GridSearchCV\n",
    "# grid_search.fit(X_train, y_train)\n",
    "\n",
    "# # Best parameters and model\n",
    "# print(\"Best Parameters:\", grid_search.best_params_)\n",
    "# best_gbr = grid_search.best_estimator_\n",
    "\n",
    "# # Evaluate the best model on the test set\n",
    "# y_pred = best_gbr.predict(X_test)\n",
    "# print(\"Mean Absolute Error:\", mean_absolute_error(y_test, y_pred))\n",
    "# print(\"Mean Squared Error:\", mean_squared_error(y_test, y_pred))\n",
    "# print(\"Root Mean Squared Error:\", mean_squared_error(y_test, y_pred, squared=False))\n",
    "# print(\"R-squared:\", r2_score(y_test, y_pred))"
   ]
  },
  {
   "cell_type": "markdown",
   "id": "42f25623-c155-4e92-bda8-b7e0dfcb8a3f",
   "metadata": {},
   "source": [
    "# Using one more method"
   ]
  },
  {
   "cell_type": "code",
   "execution_count": 63,
   "id": "79d2de5d-81e0-4fe2-8d75-f9134af9ef8f",
   "metadata": {
    "scrolled": true
   },
   "outputs": [
    {
     "name": "stdout",
     "output_type": "stream",
     "text": [
      "Linear Regression:\n",
      "R2 Score:  0.6306382197244738\n",
      "MSE:  50.1333237495057\n",
      "MAE:  5.5778583774329\n",
      "------------------------------------\n",
      "Ridge Regression:\n",
      "R2 Score:  0.6306373386130248\n",
      "MSE:  50.1334433424032\n",
      "MAE:  5.577880596310545\n",
      "------------------------------------\n",
      "Lasso Regression:\n",
      "R2 Score:  0.6266882689779627\n",
      "MSE:  50.669448952881446\n",
      "MAE:  5.633320361880547\n",
      "------------------------------------\n",
      "Decision Tree Regressor:\n",
      "R2 Score:  0.6920681935974942\n",
      "MSE:  41.79545845710186\n",
      "MAE:  4.989150591280138\n",
      "------------------------------------\n",
      "Random Forest Regressor:\n",
      "R2 Score:  0.6910109854064843\n",
      "MSE:  41.93895289356193\n",
      "MAE:  5.013695366804504\n",
      "------------------------------------\n",
      "Gradient Boosting Regressor:\n",
      "R2 Score:  0.6983052553087971\n",
      "MSE:  40.94890461553994\n",
      "MAE:  4.942453420157191\n",
      "------------------------------------\n",
      "XGBRegressor:\n",
      "R2 Score:  0.688592940221402\n",
      "MSE:  42.267153180051324\n",
      "MAE:  5.024965587441035\n",
      "------------------------------------\n"
     ]
    }
   ],
   "source": [
    "import numpy as np\n",
    "import pandas as pd\n",
    "import seaborn as sns\n",
    "import xgboost as XGB\n",
    "from sklearn.svm import SVR\n",
    "from scipy.stats import boxcox\n",
    "import matplotlib.pyplot as plt\n",
    "from sklearn.preprocessing import LabelEncoder\n",
    "from sklearn.tree import DecisionTreeRegressor\n",
    "from sklearn.preprocessing import StandardScaler\n",
    "from sklearn.ensemble import RandomForestRegressor\n",
    "from sklearn.ensemble import GradientBoostingRegressor\n",
    "from sklearn.linear_model import LinearRegression, Lasso, Ridge\n",
    "from sklearn.metrics import mean_absolute_error, mean_squared_error, r2_score\n",
    "from sklearn.model_selection import train_test_split,RandomizedSearchCV,GridSearchCV\n",
    "\n",
    "import warnings\n",
    "warnings.filterwarnings('ignore')\n",
    "bigmart_df = pd.read_csv('Bigmart.csv')\n",
    "\n",
    "bigmart_df['Item_Weight'].fillna(bigmart_df['Item_Weight'].mean(), inplace=True)\n",
    "\n",
    "def fill_outlet_size(row):\n",
    "    if pd.isna(row['Outlet_Size']):\n",
    "        if row['Outlet_Type'] == 'Grocery Store':\n",
    "            return 'Small'\n",
    "        elif row['Outlet_Type'] == 'Supermarket Type1':\n",
    "            return np.random.choice(['Small', 'Medium', 'High'])\n",
    "        elif row['Outlet_Type'] == 'Supermarket Type2':\n",
    "            return 'Medium'\n",
    "        elif row['Outlet_Type'] == 'Supermarket Type3':\n",
    "            return 'Medium'\n",
    "    else:\n",
    "        return row['Outlet_Size']\n",
    "\t\t\n",
    "bigmart_df['Outlet_Size'] = bigmart_df.apply(fill_outlet_size, axis=1)\n",
    "\n",
    "bigmart_df.replace({'Item_Fat_Content': {'low fat':'Low Fat','LF':'Low Fat', 'reg':'Regular'}}, inplace=True)\n",
    "\n",
    "encoder = LabelEncoder()\n",
    "\n",
    "bigmart_df['Item_Identifier'] = encoder.fit_transform(bigmart_df['Item_Identifier'])\n",
    "\n",
    "bigmart_df['Item_Fat_Content'] = encoder.fit_transform(bigmart_df['Item_Fat_Content'])\n",
    "\n",
    "bigmart_df['Item_Type'] = encoder.fit_transform(bigmart_df['Item_Type'])\n",
    "\n",
    "bigmart_df['Outlet_Identifier'] = encoder.fit_transform(bigmart_df['Outlet_Identifier'])\n",
    "\n",
    "bigmart_df['Outlet_Size'] = encoder.fit_transform(bigmart_df['Outlet_Size'])\n",
    "\n",
    "bigmart_df['Outlet_Location_Type'] = encoder.fit_transform(bigmart_df['Outlet_Location_Type'])\n",
    "\n",
    "bigmart_df['Outlet_Type'] = encoder.fit_transform(bigmart_df['Outlet_Type'])\n",
    "\n",
    "X = bigmart_df.drop(columns='Item_Outlet_Sales',axis=1)\n",
    "y = bigmart_df.Item_Outlet_Sales\n",
    "\n",
    "X_train,X_test,y_train,y_test = train_test_split(X,y,random_state=101,shuffle=True,test_size=.3)\n",
    "\n",
    "#Dealing with Outliers\n",
    "X_train = np.log1p(X_train)\n",
    "X_test = np.log1p(X_test)\n",
    "\n",
    "#Skewness Handling\n",
    "y_train,_ = boxcox(y_train + 1)\n",
    "y_test,_ = boxcox(y_test + 1)\n",
    "\n",
    "#Data Normalization\n",
    "Scalar = StandardScaler()\n",
    "X_train = Scalar.fit_transform(X_train)\n",
    "X_test = Scalar.transform(X_test)\n",
    "\n",
    "\n",
    "regressors = [\n",
    "    ('Linear Regression', LinearRegression()),\n",
    "    ('Ridge Regression', Ridge(random_state=42,alpha=.7)),\n",
    "    ('Lasso Regression', Lasso(random_state=42,alpha=0.3)),\n",
    "    ('Decision Tree Regressor', DecisionTreeRegressor(random_state=42,max_depth=5)),\n",
    "    ('Random Forest Regressor', RandomForestRegressor(random_state=42,max_depth=4)),\n",
    "    ('Gradient Boosting Regressor', GradientBoostingRegressor(random_state=42,max_depth=3)),\n",
    "    ('XGBRegressor',XGB.XGBRegressor(random_state=42,max_depth=3))\n",
    "]\n",
    "\n",
    "\n",
    "for clf_name, clf in regressors:\n",
    "    clf.fit(X_train, y_train)\n",
    "    y_pred = clf.predict(X_test)\n",
    "    print(f'{clf_name}:')\n",
    "    print('R2 Score: ', r2_score(y_test, y_pred))\n",
    "    print(\"MSE: \", mean_squared_error(y_test, y_pred))\n",
    "    print(\"MAE: \", mean_absolute_error(y_test, y_pred))\n",
    "    print('------------------------------------')"
   ]
  },
  {
   "cell_type": "code",
   "execution_count": 64,
   "id": "dd88cb21-9378-432c-bd22-a677931e636f",
   "metadata": {},
   "outputs": [],
   "source": [
    "# Highest Accuracy is\n",
    "\n",
    "# Gradient Boosting Regressor:\n",
    "# R2 Score:  0.6978667701362509\n",
    "# MSE:  41.0084200291223\n",
    "# MAE:  4.942663886582292"
   ]
  },
  {
   "cell_type": "code",
   "execution_count": null,
   "id": "140163c2-353d-4dae-93b5-b873a988ade5",
   "metadata": {},
   "outputs": [],
   "source": []
  }
 ],
 "metadata": {
  "kernelspec": {
   "display_name": "Python 3 (ipykernel)",
   "language": "python",
   "name": "python3"
  },
  "language_info": {
   "codemirror_mode": {
    "name": "ipython",
    "version": 3
   },
   "file_extension": ".py",
   "mimetype": "text/x-python",
   "name": "python",
   "nbconvert_exporter": "python",
   "pygments_lexer": "ipython3",
   "version": "3.11.7"
  }
 },
 "nbformat": 4,
 "nbformat_minor": 5
}
